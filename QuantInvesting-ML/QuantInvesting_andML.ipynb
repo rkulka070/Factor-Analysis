{
 "cells": [
  {
   "cell_type": "code",
   "execution_count": 1,
   "metadata": {
    "collapsed": false
   },
   "outputs": [
    {
     "name": "stderr",
     "output_type": "stream",
     "text": [
      "C:\\Users\\ROHAN\\Anaconda3\\lib\\site-packages\\ipykernel\\__main__.py:2: FutureWarning: The pandas.core.datetools module is deprecated and will be removed in a future version. Please use the pandas.tseries module instead.\n",
      "  from ipykernel import kernelapp as app\n"
     ]
    }
   ],
   "source": [
    "import pandas as pd\n",
    "from pandas.core import datetools\n",
    "import os\n",
    "import glob\n",
    "import ntpath\n",
    "from datetime import datetime\n",
    "import numpy as np\n",
    "import statsmodels.api as sm\n",
    "import scipy.stats as stats\n",
    "import scipy\n",
    "from statsmodels import regression\n",
    "import matplotlib.pyplot as plt\n",
    "import seaborn as sns"
   ]
  },
  {
   "cell_type": "code",
   "execution_count": 2,
   "metadata": {
    "collapsed": true
   },
   "outputs": [],
   "source": [
    "excelfile = \"C:/Users/ROHAN/Documents/GitProjects/Cubist/SignalData.xls\""
   ]
  },
  {
   "cell_type": "code",
   "execution_count": 3,
   "metadata": {
    "collapsed": false
   },
   "outputs": [],
   "source": [
    "pwd = os.getcwd()\n",
    "os.chdir(os.path.dirname(excelfile))\n",
    "data = pd.read_excel(os.path.basename(excelfile))\n",
    "os.chdir(pwd)"
   ]
  },
  {
   "cell_type": "code",
   "execution_count": 4,
   "metadata": {
    "collapsed": false
   },
   "outputs": [
    {
     "data": {
      "text/html": [
       "<div>\n",
       "<table border=\"1\" class=\"dataframe\">\n",
       "  <thead>\n",
       "    <tr style=\"text-align: right;\">\n",
       "      <th></th>\n",
       "      <th>symbol</th>\n",
       "      <th>industryId</th>\n",
       "      <th>stockReturn</th>\n",
       "      <th>sig1</th>\n",
       "      <th>sig2</th>\n",
       "      <th>sig3</th>\n",
       "      <th>sig4</th>\n",
       "      <th>sig5</th>\n",
       "      <th>sig6</th>\n",
       "    </tr>\n",
       "  </thead>\n",
       "  <tbody>\n",
       "    <tr>\n",
       "      <th>0</th>\n",
       "      <td>sym0001</td>\n",
       "      <td>13</td>\n",
       "      <td>-0.010280</td>\n",
       "      <td>1.206965</td>\n",
       "      <td>8.95987</td>\n",
       "      <td>6.081876</td>\n",
       "      <td>4.857028</td>\n",
       "      <td>5.099576</td>\n",
       "      <td>37.3113</td>\n",
       "    </tr>\n",
       "    <tr>\n",
       "      <th>1</th>\n",
       "      <td>sym0002</td>\n",
       "      <td>54</td>\n",
       "      <td>-0.007853</td>\n",
       "      <td>0.914520</td>\n",
       "      <td>6.41128</td>\n",
       "      <td>4.343364</td>\n",
       "      <td>11.391660</td>\n",
       "      <td>5.095543</td>\n",
       "      <td>54.0172</td>\n",
       "    </tr>\n",
       "    <tr>\n",
       "      <th>2</th>\n",
       "      <td>sym0003</td>\n",
       "      <td>24</td>\n",
       "      <td>-0.060575</td>\n",
       "      <td>1.242627</td>\n",
       "      <td>8.69657</td>\n",
       "      <td>6.252786</td>\n",
       "      <td>-0.784681</td>\n",
       "      <td>5.099284</td>\n",
       "      <td>30.6382</td>\n",
       "    </tr>\n",
       "    <tr>\n",
       "      <th>3</th>\n",
       "      <td>sym0004</td>\n",
       "      <td>39</td>\n",
       "      <td>0.038937</td>\n",
       "      <td>1.560169</td>\n",
       "      <td>6.40386</td>\n",
       "      <td>4.305594</td>\n",
       "      <td>0.214442</td>\n",
       "      <td>5.098728</td>\n",
       "      <td>72.8453</td>\n",
       "    </tr>\n",
       "    <tr>\n",
       "      <th>4</th>\n",
       "      <td>sym0005</td>\n",
       "      <td>49</td>\n",
       "      <td>0.024219</td>\n",
       "      <td>NaN</td>\n",
       "      <td>14.2074</td>\n",
       "      <td>8.145358</td>\n",
       "      <td>5.360521</td>\n",
       "      <td>5.099693</td>\n",
       "      <td>6.4709</td>\n",
       "    </tr>\n",
       "    <tr>\n",
       "      <th>5</th>\n",
       "      <td>sym0006</td>\n",
       "      <td>40</td>\n",
       "      <td>-0.030876</td>\n",
       "      <td>1.379096</td>\n",
       "      <td>9.19632</td>\n",
       "      <td>6.552530</td>\n",
       "      <td>0.786777</td>\n",
       "      <td>5.099841</td>\n",
       "      <td>47.5610</td>\n",
       "    </tr>\n",
       "    <tr>\n",
       "      <th>6</th>\n",
       "      <td>sym0007</td>\n",
       "      <td>53</td>\n",
       "      <td>0.038601</td>\n",
       "      <td>1.389349</td>\n",
       "      <td>6.4</td>\n",
       "      <td>6.501426</td>\n",
       "      <td>0.024944</td>\n",
       "      <td>5.099608</td>\n",
       "      <td>3.6323</td>\n",
       "    </tr>\n",
       "    <tr>\n",
       "      <th>7</th>\n",
       "      <td>sym0008</td>\n",
       "      <td>43</td>\n",
       "      <td>0.090956</td>\n",
       "      <td>1.156530</td>\n",
       "      <td>8.90483</td>\n",
       "      <td>5.404435</td>\n",
       "      <td>15.182980</td>\n",
       "      <td>5.097408</td>\n",
       "      <td>1.3083</td>\n",
       "    </tr>\n",
       "    <tr>\n",
       "      <th>8</th>\n",
       "      <td>sym0009</td>\n",
       "      <td>21</td>\n",
       "      <td>0.050642</td>\n",
       "      <td>1.350138</td>\n",
       "      <td>13.3568</td>\n",
       "      <td>7.878196</td>\n",
       "      <td>3.845150</td>\n",
       "      <td>5.098654</td>\n",
       "      <td>13.8658</td>\n",
       "    </tr>\n",
       "    <tr>\n",
       "      <th>9</th>\n",
       "      <td>sym0010</td>\n",
       "      <td>53</td>\n",
       "      <td>-0.014633</td>\n",
       "      <td>1.069054</td>\n",
       "      <td>6.4</td>\n",
       "      <td>4.300000</td>\n",
       "      <td>4.073453</td>\n",
       "      <td>5.099232</td>\n",
       "      <td>32.3387</td>\n",
       "    </tr>\n",
       "  </tbody>\n",
       "</table>\n",
       "</div>"
      ],
      "text/plain": [
       "    symbol  industryId  stockReturn      sig1     sig2      sig3       sig4  \\\n",
       "0  sym0001          13    -0.010280  1.206965  8.95987  6.081876   4.857028   \n",
       "1  sym0002          54    -0.007853  0.914520  6.41128  4.343364  11.391660   \n",
       "2  sym0003          24    -0.060575  1.242627  8.69657  6.252786  -0.784681   \n",
       "3  sym0004          39     0.038937  1.560169  6.40386  4.305594   0.214442   \n",
       "4  sym0005          49     0.024219       NaN  14.2074  8.145358   5.360521   \n",
       "5  sym0006          40    -0.030876  1.379096  9.19632  6.552530   0.786777   \n",
       "6  sym0007          53     0.038601  1.389349      6.4  6.501426   0.024944   \n",
       "7  sym0008          43     0.090956  1.156530  8.90483  5.404435  15.182980   \n",
       "8  sym0009          21     0.050642  1.350138  13.3568  7.878196   3.845150   \n",
       "9  sym0010          53    -0.014633  1.069054      6.4  4.300000   4.073453   \n",
       "\n",
       "       sig5     sig6  \n",
       "0  5.099576  37.3113  \n",
       "1  5.095543  54.0172  \n",
       "2  5.099284  30.6382  \n",
       "3  5.098728  72.8453  \n",
       "4  5.099693   6.4709  \n",
       "5  5.099841  47.5610  \n",
       "6  5.099608   3.6323  \n",
       "7  5.097408   1.3083  \n",
       "8  5.098654  13.8658  \n",
       "9  5.099232  32.3387  "
      ]
     },
     "execution_count": 4,
     "metadata": {},
     "output_type": "execute_result"
    }
   ],
   "source": [
    "data.head(10)"
   ]
  },
  {
   "cell_type": "code",
   "execution_count": 5,
   "metadata": {
    "collapsed": false
   },
   "outputs": [
    {
     "data": {
      "text/html": [
       "<div>\n",
       "<table border=\"1\" class=\"dataframe\">\n",
       "  <thead>\n",
       "    <tr style=\"text-align: right;\">\n",
       "      <th></th>\n",
       "      <th>symbol</th>\n",
       "      <th>industryId</th>\n",
       "      <th>stockReturn</th>\n",
       "      <th>sig1</th>\n",
       "      <th>sig2</th>\n",
       "      <th>sig3</th>\n",
       "      <th>sig4</th>\n",
       "      <th>sig5</th>\n",
       "      <th>sig6</th>\n",
       "    </tr>\n",
       "  </thead>\n",
       "  <tbody>\n",
       "  </tbody>\n",
       "</table>\n",
       "</div>"
      ],
      "text/plain": [
       "Empty DataFrame\n",
       "Columns: [symbol, industryId, stockReturn, sig1, sig2, sig3, sig4, sig5, sig6]\n",
       "Index: []"
      ]
     },
     "execution_count": 5,
     "metadata": {},
     "output_type": "execute_result"
    }
   ],
   "source": [
    "#Check if there are any nan values\n",
    "data[np.isnan(data.stockReturn)]"
   ]
  },
  {
   "cell_type": "code",
   "execution_count": 6,
   "metadata": {
    "collapsed": false
   },
   "outputs": [
    {
     "name": "stdout",
     "output_type": "stream",
     "text": [
      "<class 'pandas.core.frame.DataFrame'>\n",
      "RangeIndex: 1509 entries, 0 to 1508\n",
      "Data columns (total 9 columns):\n",
      "symbol         1509 non-null object\n",
      "industryId     1509 non-null int64\n",
      "stockReturn    1509 non-null float64\n",
      "sig1           1383 non-null float64\n",
      "sig2           1504 non-null float64\n",
      "sig3           1507 non-null float64\n",
      "sig4           1501 non-null float64\n",
      "sig5           1509 non-null float64\n",
      "sig6           1509 non-null float64\n",
      "dtypes: float64(7), int64(1), object(1)\n",
      "memory usage: 106.2+ KB\n"
     ]
    }
   ],
   "source": [
    "#Convert sig2 into float\n",
    "data.sig2=data.sig2.astype(dtype=float)\n",
    "data.info()"
   ]
  },
  {
   "cell_type": "code",
   "execution_count": 7,
   "metadata": {
    "collapsed": false
   },
   "outputs": [
    {
     "data": {
      "text/plain": [
       "1.150180684210526"
      ]
     },
     "execution_count": 7,
     "metadata": {},
     "output_type": "execute_result"
    }
   ],
   "source": [
    "data[data['industryId'] == 49]['sig1'].mean()"
   ]
  },
  {
   "cell_type": "code",
   "execution_count": 8,
   "metadata": {
    "collapsed": false
   },
   "outputs": [
    {
     "data": {
      "text/plain": [
       "(1509, 9)"
      ]
     },
     "execution_count": 8,
     "metadata": {},
     "output_type": "execute_result"
    }
   ],
   "source": [
    "data.shape"
   ]
  },
  {
   "cell_type": "code",
   "execution_count": 9,
   "metadata": {
    "collapsed": true
   },
   "outputs": [],
   "source": [
    "#Fill NA in signals with industry means\n",
    "data[['stockReturn','sig1','sig2','sig3','sig4','sig5','sig6']] = data.groupby(\"industryId\").transform(lambda x: x.fillna(x.mean()))"
   ]
  },
  {
   "cell_type": "code",
   "execution_count": 10,
   "metadata": {
    "collapsed": false
   },
   "outputs": [
    {
     "data": {
      "text/html": [
       "<div>\n",
       "<table border=\"1\" class=\"dataframe\">\n",
       "  <thead>\n",
       "    <tr style=\"text-align: right;\">\n",
       "      <th></th>\n",
       "      <th>symbol</th>\n",
       "      <th>industryId</th>\n",
       "      <th>stockReturn</th>\n",
       "      <th>sig1</th>\n",
       "      <th>sig2</th>\n",
       "      <th>sig3</th>\n",
       "      <th>sig4</th>\n",
       "      <th>sig5</th>\n",
       "      <th>sig6</th>\n",
       "    </tr>\n",
       "  </thead>\n",
       "  <tbody>\n",
       "    <tr>\n",
       "      <th>0</th>\n",
       "      <td>sym0001</td>\n",
       "      <td>13</td>\n",
       "      <td>-0.010280</td>\n",
       "      <td>1.206965</td>\n",
       "      <td>8.959871</td>\n",
       "      <td>6.081876</td>\n",
       "      <td>4.857028</td>\n",
       "      <td>5.099576</td>\n",
       "      <td>37.3113</td>\n",
       "    </tr>\n",
       "    <tr>\n",
       "      <th>1</th>\n",
       "      <td>sym0002</td>\n",
       "      <td>54</td>\n",
       "      <td>-0.007853</td>\n",
       "      <td>0.914520</td>\n",
       "      <td>6.411277</td>\n",
       "      <td>4.343364</td>\n",
       "      <td>11.391660</td>\n",
       "      <td>5.095543</td>\n",
       "      <td>54.0172</td>\n",
       "    </tr>\n",
       "    <tr>\n",
       "      <th>2</th>\n",
       "      <td>sym0003</td>\n",
       "      <td>24</td>\n",
       "      <td>-0.060575</td>\n",
       "      <td>1.242627</td>\n",
       "      <td>8.696568</td>\n",
       "      <td>6.252786</td>\n",
       "      <td>-0.784681</td>\n",
       "      <td>5.099284</td>\n",
       "      <td>30.6382</td>\n",
       "    </tr>\n",
       "    <tr>\n",
       "      <th>3</th>\n",
       "      <td>sym0004</td>\n",
       "      <td>39</td>\n",
       "      <td>0.038937</td>\n",
       "      <td>1.560169</td>\n",
       "      <td>6.403864</td>\n",
       "      <td>4.305594</td>\n",
       "      <td>0.214442</td>\n",
       "      <td>5.098728</td>\n",
       "      <td>72.8453</td>\n",
       "    </tr>\n",
       "    <tr>\n",
       "      <th>4</th>\n",
       "      <td>sym0005</td>\n",
       "      <td>49</td>\n",
       "      <td>0.024219</td>\n",
       "      <td>1.150181</td>\n",
       "      <td>14.207439</td>\n",
       "      <td>8.145358</td>\n",
       "      <td>5.360521</td>\n",
       "      <td>5.099693</td>\n",
       "      <td>6.4709</td>\n",
       "    </tr>\n",
       "  </tbody>\n",
       "</table>\n",
       "</div>"
      ],
      "text/plain": [
       "    symbol  industryId  stockReturn      sig1       sig2      sig3       sig4  \\\n",
       "0  sym0001          13    -0.010280  1.206965   8.959871  6.081876   4.857028   \n",
       "1  sym0002          54    -0.007853  0.914520   6.411277  4.343364  11.391660   \n",
       "2  sym0003          24    -0.060575  1.242627   8.696568  6.252786  -0.784681   \n",
       "3  sym0004          39     0.038937  1.560169   6.403864  4.305594   0.214442   \n",
       "4  sym0005          49     0.024219  1.150181  14.207439  8.145358   5.360521   \n",
       "\n",
       "       sig5     sig6  \n",
       "0  5.099576  37.3113  \n",
       "1  5.095543  54.0172  \n",
       "2  5.099284  30.6382  \n",
       "3  5.098728  72.8453  \n",
       "4  5.099693   6.4709  "
      ]
     },
     "execution_count": 10,
     "metadata": {},
     "output_type": "execute_result"
    }
   ],
   "source": [
    "data.head()\n"
   ]
  },
  {
   "cell_type": "code",
   "execution_count": 11,
   "metadata": {
    "collapsed": true
   },
   "outputs": [],
   "source": [
    "def winsorize_series(s):\n",
    "    q = s.quantile([0.01, 0.99])\n",
    "    if isinstance(q, pd.Series) and len(q) == 2:\n",
    "        s[s < q.iloc[0]] = q.iloc[0]\n",
    "        s[s > q.iloc[1]] = q.iloc[1]\n",
    "    return s\n",
    "\n",
    "def winsorize_df(df):\n",
    "    return df.apply(winsorize_series)"
   ]
  },
  {
   "cell_type": "code",
   "execution_count": 12,
   "metadata": {
    "collapsed": true
   },
   "outputs": [],
   "source": [
    "#winsorize_df(data[['sig1','sig2','sig3','sig4','sig5','sig6']])"
   ]
  },
  {
   "cell_type": "markdown",
   "metadata": {},
   "source": [
    "Demean Returns and signals within industry group"
   ]
  },
  {
   "cell_type": "code",
   "execution_count": 13,
   "metadata": {
    "collapsed": true
   },
   "outputs": [],
   "source": [
    "data['stockReturnN'] = data['stockReturn'] - data.groupby('industryId')['stockReturn'].transform('mean')\n",
    "data['sig1n'] = data['sig1'] - data.groupby('industryId')['sig1'].transform('mean')\n",
    "data['sig2n'] = data['sig2'] - data.groupby('industryId')['sig2'].transform('mean')\n",
    "data['sig3n'] = data['sig3'] - data.groupby('industryId')['sig3'].transform('mean')\n",
    "data['sig4n'] = data['sig4'] - data.groupby('industryId')['sig4'].transform('mean')\n",
    "data['sig5n'] = data['sig5'] - data.groupby('industryId')['sig5'].transform('mean')\n",
    "data['sig6n'] = data['sig6'] - data.groupby('industryId')['sig6'].transform('mean')"
   ]
  },
  {
   "cell_type": "code",
   "execution_count": 14,
   "metadata": {
    "collapsed": false
   },
   "outputs": [
    {
     "data": {
      "text/html": [
       "<div>\n",
       "<table border=\"1\" class=\"dataframe\">\n",
       "  <thead>\n",
       "    <tr style=\"text-align: right;\">\n",
       "      <th></th>\n",
       "      <th>symbol</th>\n",
       "      <th>industryId</th>\n",
       "      <th>stockReturn</th>\n",
       "      <th>sig1</th>\n",
       "      <th>sig2</th>\n",
       "      <th>sig3</th>\n",
       "      <th>sig4</th>\n",
       "      <th>sig5</th>\n",
       "      <th>sig6</th>\n",
       "      <th>stockReturnN</th>\n",
       "      <th>sig1n</th>\n",
       "      <th>sig2n</th>\n",
       "      <th>sig3n</th>\n",
       "      <th>sig4n</th>\n",
       "      <th>sig5n</th>\n",
       "      <th>sig6n</th>\n",
       "    </tr>\n",
       "  </thead>\n",
       "  <tbody>\n",
       "    <tr>\n",
       "      <th>0</th>\n",
       "      <td>sym0001</td>\n",
       "      <td>13</td>\n",
       "      <td>-0.010280</td>\n",
       "      <td>1.206965</td>\n",
       "      <td>8.959871</td>\n",
       "      <td>6.081876</td>\n",
       "      <td>4.857028</td>\n",
       "      <td>5.099576</td>\n",
       "      <td>37.3113</td>\n",
       "      <td>-0.055509</td>\n",
       "      <td>-9.072229e-02</td>\n",
       "      <td>-4.941177e+19</td>\n",
       "      <td>-0.822164</td>\n",
       "      <td>-0.200482</td>\n",
       "      <td>0.000361</td>\n",
       "      <td>-11.782571</td>\n",
       "    </tr>\n",
       "    <tr>\n",
       "      <th>1</th>\n",
       "      <td>sym0002</td>\n",
       "      <td>54</td>\n",
       "      <td>-0.007853</td>\n",
       "      <td>0.914520</td>\n",
       "      <td>6.411277</td>\n",
       "      <td>4.343364</td>\n",
       "      <td>11.391660</td>\n",
       "      <td>5.095543</td>\n",
       "      <td>54.0172</td>\n",
       "      <td>-0.002768</td>\n",
       "      <td>-2.206260e-01</td>\n",
       "      <td>-2.000000e+19</td>\n",
       "      <td>-1.628580</td>\n",
       "      <td>7.274115</td>\n",
       "      <td>-0.002466</td>\n",
       "      <td>14.858119</td>\n",
       "    </tr>\n",
       "    <tr>\n",
       "      <th>2</th>\n",
       "      <td>sym0003</td>\n",
       "      <td>24</td>\n",
       "      <td>-0.060575</td>\n",
       "      <td>1.242627</td>\n",
       "      <td>8.696568</td>\n",
       "      <td>6.252786</td>\n",
       "      <td>-0.784681</td>\n",
       "      <td>5.099284</td>\n",
       "      <td>30.6382</td>\n",
       "      <td>-0.059701</td>\n",
       "      <td>3.021474e-03</td>\n",
       "      <td>-2.436765e+00</td>\n",
       "      <td>-0.113541</td>\n",
       "      <td>0.181222</td>\n",
       "      <td>0.000188</td>\n",
       "      <td>-16.162200</td>\n",
       "    </tr>\n",
       "    <tr>\n",
       "      <th>3</th>\n",
       "      <td>sym0004</td>\n",
       "      <td>39</td>\n",
       "      <td>0.038937</td>\n",
       "      <td>1.560169</td>\n",
       "      <td>6.403864</td>\n",
       "      <td>4.305594</td>\n",
       "      <td>0.214442</td>\n",
       "      <td>5.098728</td>\n",
       "      <td>72.8453</td>\n",
       "      <td>0.019779</td>\n",
       "      <td>2.437621e-01</td>\n",
       "      <td>-8.400000e+19</td>\n",
       "      <td>-2.834517</td>\n",
       "      <td>-1.972511</td>\n",
       "      <td>-0.000627</td>\n",
       "      <td>-3.375350</td>\n",
       "    </tr>\n",
       "    <tr>\n",
       "      <th>4</th>\n",
       "      <td>sym0005</td>\n",
       "      <td>49</td>\n",
       "      <td>0.024219</td>\n",
       "      <td>1.150181</td>\n",
       "      <td>14.207439</td>\n",
       "      <td>8.145358</td>\n",
       "      <td>5.360521</td>\n",
       "      <td>5.099693</td>\n",
       "      <td>6.4709</td>\n",
       "      <td>0.029995</td>\n",
       "      <td>2.220446e-16</td>\n",
       "      <td>-3.962264e+18</td>\n",
       "      <td>0.386173</td>\n",
       "      <td>96.328437</td>\n",
       "      <td>0.000227</td>\n",
       "      <td>-47.032376</td>\n",
       "    </tr>\n",
       "  </tbody>\n",
       "</table>\n",
       "</div>"
      ],
      "text/plain": [
       "    symbol  industryId  stockReturn      sig1       sig2      sig3       sig4  \\\n",
       "0  sym0001          13    -0.010280  1.206965   8.959871  6.081876   4.857028   \n",
       "1  sym0002          54    -0.007853  0.914520   6.411277  4.343364  11.391660   \n",
       "2  sym0003          24    -0.060575  1.242627   8.696568  6.252786  -0.784681   \n",
       "3  sym0004          39     0.038937  1.560169   6.403864  4.305594   0.214442   \n",
       "4  sym0005          49     0.024219  1.150181  14.207439  8.145358   5.360521   \n",
       "\n",
       "       sig5     sig6  stockReturnN         sig1n         sig2n     sig3n  \\\n",
       "0  5.099576  37.3113     -0.055509 -9.072229e-02 -4.941177e+19 -0.822164   \n",
       "1  5.095543  54.0172     -0.002768 -2.206260e-01 -2.000000e+19 -1.628580   \n",
       "2  5.099284  30.6382     -0.059701  3.021474e-03 -2.436765e+00 -0.113541   \n",
       "3  5.098728  72.8453      0.019779  2.437621e-01 -8.400000e+19 -2.834517   \n",
       "4  5.099693   6.4709      0.029995  2.220446e-16 -3.962264e+18  0.386173   \n",
       "\n",
       "       sig4n     sig5n      sig6n  \n",
       "0  -0.200482  0.000361 -11.782571  \n",
       "1   7.274115 -0.002466  14.858119  \n",
       "2   0.181222  0.000188 -16.162200  \n",
       "3  -1.972511 -0.000627  -3.375350  \n",
       "4  96.328437  0.000227 -47.032376  "
      ]
     },
     "execution_count": 14,
     "metadata": {},
     "output_type": "execute_result"
    }
   ],
   "source": [
    "data.head()"
   ]
  },
  {
   "cell_type": "markdown",
   "metadata": {},
   "source": [
    "<b>Standardize signals</b>"
   ]
  },
  {
   "cell_type": "code",
   "execution_count": 15,
   "metadata": {
    "collapsed": true
   },
   "outputs": [],
   "source": [
    "from sklearn import preprocessing,decomposition, linear_model, pipeline, metrics\n",
    "from sklearn_pandas import DataFrameMapper, cross_val_score\n",
    "from sklearn.feature_extraction.text import CountVectorizer\n",
    "import statsmodels.api as sms\n",
    "\n",
    "df_normalized = data[['symbol','industryId','stockReturnN','sig1n','sig2n','sig3n','sig4n','sig5n','sig6n']]\n",
    "\n",
    "mapper_df = DataFrameMapper([\n",
    "    (['symbol'],None),\n",
    "    (['industryId'],  None),\n",
    "    (['stockReturnN'], preprocessing.StandardScaler(),{'alias': 'normstockReturn'}),\n",
    "    (['sig1n'], preprocessing.StandardScaler(),{'alias': 'normsig1'}),\n",
    "    (['sig2n'], preprocessing.StandardScaler(),{'alias': 'normsig2'}),\n",
    "    (['sig3n'], preprocessing.StandardScaler(),{'alias': 'normsig3'}),\n",
    "    (['sig4n'], preprocessing.StandardScaler(),{'alias': 'normsig4'}),\n",
    "    (['sig5n'], preprocessing.StandardScaler(),{'alias': 'normsig5'}),\n",
    "    (['sig6n'], preprocessing.StandardScaler(),{'alias': 'normsig6'})\n",
    "], df_out=True, default=None) #df_out returns dataframe and default None lets pass unmapped columns unchanged\n",
    "\n",
    "df_normalized_scaled = mapper_df.fit_transform(df_normalized.copy()) \n",
    "\n"
   ]
  },
  {
   "cell_type": "code",
   "execution_count": 16,
   "metadata": {
    "collapsed": false
   },
   "outputs": [
    {
     "data": {
      "text/html": [
       "<div>\n",
       "<table border=\"1\" class=\"dataframe\">\n",
       "  <thead>\n",
       "    <tr style=\"text-align: right;\">\n",
       "      <th></th>\n",
       "      <th>symbol</th>\n",
       "      <th>industryId</th>\n",
       "      <th>normstockReturn</th>\n",
       "      <th>normsig1</th>\n",
       "      <th>normsig2</th>\n",
       "      <th>normsig3</th>\n",
       "      <th>normsig4</th>\n",
       "      <th>normsig5</th>\n",
       "      <th>normsig6</th>\n",
       "    </tr>\n",
       "  </thead>\n",
       "  <tbody>\n",
       "    <tr>\n",
       "      <th>0</th>\n",
       "      <td>sym0001</td>\n",
       "      <td>13</td>\n",
       "      <td>-0.955093</td>\n",
       "      <td>-0.399479</td>\n",
       "      <td>-0.619733</td>\n",
       "      <td>-0.50258</td>\n",
       "      <td>-0.000754382</td>\n",
       "      <td>0.271068</td>\n",
       "      <td>-0.418239</td>\n",
       "    </tr>\n",
       "    <tr>\n",
       "      <th>1</th>\n",
       "      <td>sym0002</td>\n",
       "      <td>54</td>\n",
       "      <td>-0.0476233</td>\n",
       "      <td>-0.971487</td>\n",
       "      <td>-0.250844</td>\n",
       "      <td>-0.995533</td>\n",
       "      <td>0.0273713</td>\n",
       "      <td>-1.85015</td>\n",
       "      <td>0.52741</td>\n",
       "    </tr>\n",
       "    <tr>\n",
       "      <th>2</th>\n",
       "      <td>sym0003</td>\n",
       "      <td>24</td>\n",
       "      <td>-1.02721</td>\n",
       "      <td>0.0133045</td>\n",
       "      <td>-3.05624e-20</td>\n",
       "      <td>-0.0694067</td>\n",
       "      <td>0.000681907</td>\n",
       "      <td>0.140833</td>\n",
       "      <td>-0.5737</td>\n",
       "    </tr>\n",
       "    <tr>\n",
       "      <th>3</th>\n",
       "      <td>sym0004</td>\n",
       "      <td>39</td>\n",
       "      <td>0.34032</td>\n",
       "      <td>1.07336</td>\n",
       "      <td>-1.05355</td>\n",
       "      <td>-1.73271</td>\n",
       "      <td>-0.00742223</td>\n",
       "      <td>-0.470357</td>\n",
       "      <td>-0.119813</td>\n",
       "    </tr>\n",
       "    <tr>\n",
       "      <th>4</th>\n",
       "      <td>sym0005</td>\n",
       "      <td>49</td>\n",
       "      <td>0.516102</td>\n",
       "      <td>8.11862e-16</td>\n",
       "      <td>-0.0496956</td>\n",
       "      <td>0.236063</td>\n",
       "      <td>0.362468</td>\n",
       "      <td>0.170329</td>\n",
       "      <td>-1.66948</td>\n",
       "    </tr>\n",
       "  </tbody>\n",
       "</table>\n",
       "</div>"
      ],
      "text/plain": [
       "    symbol industryId normstockReturn     normsig1     normsig2   normsig3  \\\n",
       "0  sym0001         13       -0.955093    -0.399479    -0.619733   -0.50258   \n",
       "1  sym0002         54      -0.0476233    -0.971487    -0.250844  -0.995533   \n",
       "2  sym0003         24        -1.02721    0.0133045 -3.05624e-20 -0.0694067   \n",
       "3  sym0004         39         0.34032      1.07336     -1.05355   -1.73271   \n",
       "4  sym0005         49        0.516102  8.11862e-16   -0.0496956   0.236063   \n",
       "\n",
       "      normsig4  normsig5  normsig6  \n",
       "0 -0.000754382  0.271068 -0.418239  \n",
       "1    0.0273713  -1.85015   0.52741  \n",
       "2  0.000681907  0.140833   -0.5737  \n",
       "3  -0.00742223 -0.470357 -0.119813  \n",
       "4     0.362468  0.170329  -1.66948  "
      ]
     },
     "execution_count": 16,
     "metadata": {},
     "output_type": "execute_result"
    }
   ],
   "source": [
    "df_normalized_scaled.head()"
   ]
  },
  {
   "cell_type": "code",
   "execution_count": 17,
   "metadata": {
    "collapsed": true
   },
   "outputs": [],
   "source": [
    "## Robust Linear Model RLM\n",
    "#Complete_Data_array\n",
    "Complete_Data = df_normalized_scaled[['normsig1','normsig2','normsig3','normsig4','normsig5','normsig6']]\n",
    "Complete_Data_array=Complete_Data.as_matrix()\n",
    "Complete_Data_array=sms.add_constant(Complete_Data_array)\n",
    "#Dependent_Variable_array\n",
    "Dependent_Variable_array = df_normalized_scaled[['normstockReturn']].as_matrix()"
   ]
  },
  {
   "cell_type": "code",
   "execution_count": 18,
   "metadata": {
    "collapsed": false
   },
   "outputs": [
    {
     "name": "stdout",
     "output_type": "stream",
     "text": [
      "                    Robust linear Model Regression Results                    \n",
      "==============================================================================\n",
      "Dep. Variable:                      y   No. Observations:                 1509\n",
      "Model:                            RLM   Df Residuals:                     1502\n",
      "Method:                          IRLS   Df Model:                            6\n",
      "Norm:                          HuberT                                         \n",
      "Scale Est.:                       mad                                         \n",
      "Cov Type:                          H1                                         \n",
      "Date:                Thu, 03 May 2018                                         \n",
      "Time:                        12:12:35                                         \n",
      "No. Iterations:                    24                                         \n",
      "==============================================================================\n",
      "                 coef    std err          z      P>|z|      [0.025      0.975]\n",
      "------------------------------------------------------------------------------\n",
      "const          0.0003      0.022      0.012      0.990      -0.044       0.044\n",
      "x1             0.0383      0.023      1.694      0.090      -0.006       0.083\n",
      "x2            -0.0294      0.026     -1.112      0.266      -0.081       0.022\n",
      "x3             0.0464      0.026      1.766      0.077      -0.005       0.098\n",
      "x4             0.0033      0.022      0.149      0.882      -0.041       0.047\n",
      "x5            -0.1088      0.023     -4.830      0.000      -0.153      -0.065\n",
      "x6            -0.0124      0.022     -0.550      0.583      -0.056       0.032\n",
      "==============================================================================\n",
      "\n",
      "If the model instance has been used for another fit with different fit\n",
      "parameters, then the fit options might not be the correct ones anymore .\n"
     ]
    }
   ],
   "source": [
    "model_RLM = sms.RLM(Dependent_Variable_array.astype(np.float64), Complete_Data_array.astype(np.float64), M=sms.robust.norms.HuberT())\n",
    "result_RLM=model_RLM.fit()\n",
    "print(result_RLM.summary())"
   ]
  },
  {
   "cell_type": "code",
   "execution_count": 19,
   "metadata": {
    "collapsed": false
   },
   "outputs": [
    {
     "name": "stdout",
     "output_type": "stream",
     "text": [
      "                            OLS Regression Results                            \n",
      "==============================================================================\n",
      "Dep. Variable:                      y   R-squared:                       0.018\n",
      "Model:                            OLS   Adj. R-squared:                  0.014\n",
      "Method:                 Least Squares   F-statistic:                     4.496\n",
      "Date:                Thu, 03 May 2018   Prob (F-statistic):           0.000160\n",
      "Time:                        12:12:35   Log-Likelihood:                -2127.7\n",
      "No. Observations:                1509   AIC:                             4269.\n",
      "Df Residuals:                    1502   BIC:                             4307.\n",
      "Df Model:                           6                                         \n",
      "Covariance Type:            nonrobust                                         \n",
      "==============================================================================\n",
      "                 coef    std err          t      P>|t|      [0.025      0.975]\n",
      "------------------------------------------------------------------------------\n",
      "const       7.589e-19      0.026   2.97e-17      1.000      -0.050       0.050\n",
      "x1             0.1003      0.026      3.896      0.000       0.050       0.151\n",
      "x2            -0.0422      0.030     -1.403      0.161      -0.101       0.017\n",
      "x3             0.0521      0.030      1.740      0.082      -0.007       0.111\n",
      "x4             0.0054      0.026      0.211      0.833      -0.045       0.056\n",
      "x5            -0.0725      0.026     -2.824      0.005      -0.123      -0.022\n",
      "x6            -0.0066      0.026     -0.256      0.798      -0.057       0.044\n",
      "==============================================================================\n",
      "Omnibus:                      122.313   Durbin-Watson:                   2.001\n",
      "Prob(Omnibus):                  0.000   Jarque-Bera (JB):              690.091\n",
      "Skew:                          -0.008   Prob(JB):                    1.41e-150\n",
      "Kurtosis:                       6.313   Cond. No.                         1.80\n",
      "==============================================================================\n",
      "\n",
      "Warnings:\n",
      "[1] Standard Errors assume that the covariance matrix of the errors is correctly specified.\n"
     ]
    }
   ],
   "source": [
    "model_OLS  = sms.OLS(Dependent_Variable_array.astype(np.float64), Complete_Data_array.astype(np.float64))\n",
    "result_OLS = model_OLS.fit()\n",
    "print(result_OLS.summary())"
   ]
  },
  {
   "cell_type": "code",
   "execution_count": 20,
   "metadata": {
    "collapsed": true
   },
   "outputs": [],
   "source": [
    "df_normalized_scaled['OLS_Sig'] = result_OLS.params[1]*df_normalized_scaled[\"normsig1\"] + result_OLS.params[2]*df_normalized_scaled[\"normsig2\"] + result_OLS.params[3]*df_normalized_scaled[\"normsig3\"] + result_OLS.params[4]*df_normalized_scaled[\"normsig4\"] + result_OLS.params[5]*df_normalized_scaled[\"normsig5\"]+ result_OLS.params[6]*df_normalized_scaled[\"normsig6\"]\n",
    "df_normalized_scaled['RLM_Sig'] = result_RLM.params[1]*df_normalized_scaled[\"normsig1\"] + result_RLM.params[2]*df_normalized_scaled[\"normsig2\"] + result_RLM.params[3]*df_normalized_scaled[\"normsig3\"] + result_RLM.params[4]*df_normalized_scaled[\"normsig4\"] + result_RLM.params[5]*df_normalized_scaled[\"normsig5\"]+ result_RLM.params[6]*df_normalized_scaled[\"normsig6\"]"
   ]
  },
  {
   "cell_type": "code",
   "execution_count": 21,
   "metadata": {
    "collapsed": false
   },
   "outputs": [
    {
     "name": "stdout",
     "output_type": "stream",
     "text": [
      "0.02095695204167168\n",
      "0.03351914509744065\n",
      "0.019826081143893007\n",
      "-0.42003386536009657\n",
      "0.01907458202776958\n",
      "0.018738705762017013\n"
     ]
    }
   ],
   "source": [
    "print((data[\"stockReturn\"] * data[\"sig1\"]).sum() / data[\"sig1\"].sum())\n",
    "print((data[\"stockReturn\"] * data[\"sig2\"]).sum() / data[\"sig2\"].sum())\n",
    "print((data[\"stockReturn\"] * data[\"sig3\"]).sum() / data[\"sig3\"].sum())\n",
    "print((data[\"stockReturn\"] * data[\"sig4\"]).sum() / data[\"sig4\"].sum())\n",
    "print((data[\"stockReturn\"] * data[\"sig5\"]).sum() / data[\"sig5\"].sum())\n",
    "print((data[\"stockReturn\"] * data[\"sig6\"]).sum() / data[\"sig6\"].sum())"
   ]
  },
  {
   "cell_type": "code",
   "execution_count": 22,
   "metadata": {
    "collapsed": false
   },
   "outputs": [
    {
     "name": "stdout",
     "output_type": "stream",
     "text": [
      "0.021457852424749194\n",
      "-0.00039127371095992497\n",
      "0.00575808793921613\n",
      "0.005423038908588497\n",
      "-0.015473973097633653\n",
      "-0.0006414894607192867\n"
     ]
    }
   ],
   "source": [
    "print((data[\"stockReturn\"] * df_normalized_scaled[\"normsig1\"]).sum() *2.0 / df_normalized_scaled[\"normsig1\"].abs().sum())\n",
    "print((data[\"stockReturn\"] * df_normalized_scaled[\"normsig2\"]).sum() *2.0 / df_normalized_scaled[\"normsig2\"].abs().sum())\n",
    "print((data[\"stockReturn\"] * df_normalized_scaled[\"normsig3\"]).sum() *2.0 / df_normalized_scaled[\"normsig3\"].abs().sum())\n",
    "print((data[\"stockReturn\"] * df_normalized_scaled[\"normsig4\"]).sum() *2.0 / df_normalized_scaled[\"normsig4\"].abs().sum())\n",
    "print((data[\"stockReturn\"] * df_normalized_scaled[\"normsig5\"]).sum() *2.0 / df_normalized_scaled[\"normsig5\"].abs().sum())\n",
    "print((data[\"stockReturn\"] * df_normalized_scaled[\"normsig6\"]).sum() *2.0 / df_normalized_scaled[\"normsig6\"].abs().sum())"
   ]
  },
  {
   "cell_type": "code",
   "execution_count": 23,
   "metadata": {
    "collapsed": false
   },
   "outputs": [
    {
     "name": "stdout",
     "output_type": "stream",
     "text": [
      "0.020732167509222625\n",
      "0.02378974360625781\n"
     ]
    }
   ],
   "source": [
    "print((data[\"stockReturn\"] * df_normalized_scaled['RLM_Sig']).sum() *2.0 / df_normalized_scaled['RLM_Sig'].abs().sum())\n",
    "print((data[\"stockReturn\"] * df_normalized_scaled['OLS_Sig']).sum() *2.0 / df_normalized_scaled['OLS_Sig'].abs().sum())"
   ]
  },
  {
   "cell_type": "code",
   "execution_count": 24,
   "metadata": {
    "collapsed": false
   },
   "outputs": [
    {
     "name": "stdout",
     "output_type": "stream",
     "text": [
      "(1131, 6)\n",
      "(1131,)\n"
     ]
    }
   ],
   "source": [
    "%matplotlib notebook\n",
    "\n",
    "import sklearn\n",
    "#import csv\n",
    "from sklearn import svm\n",
    "from sklearn.metrics import confusion_matrix\n",
    "from sklearn.model_selection import train_test_split\n",
    "from sklearn import linear_model\n",
    "import itertools\n",
    "from sklearn import preprocessing\n",
    "import warnings\n",
    "warnings.simplefilter(action='ignore', category=FutureWarning)\n",
    "\n",
    "plt.ioff()\n",
    "pd.set_option('display.max_columns', None)\n",
    "X = np.array(df_normalized_scaled[[\"normsig1\",\"normsig2\",\"normsig3\",\"normsig4\",\"normsig5\",\"normsig6\"]])\n",
    "Y = np.array(df_normalized_scaled[\"normstockReturn\"])\n",
    "X_train, X_test, Y_train, Y_test = train_test_split(X, Y, test_size=1/4., random_state=0)\n",
    "print(X_train.shape)\n",
    "print(Y_train.shape)"
   ]
  },
  {
   "cell_type": "code",
   "execution_count": 25,
   "metadata": {
    "collapsed": false
   },
   "outputs": [
    {
     "name": "stdout",
     "output_type": "stream",
     "text": [
      "SVR(C=1.0, cache_size=200, coef0=0.0, degree=3, epsilon=0.1, gamma='auto',\n",
      "  kernel='rbf', max_iter=-1, shrinking=True, tol=0.001, verbose=False)\n",
      "Train MSE 0.9056435045279508\n",
      "Test MSE 1.0086264593122933\n",
      "SGDRegressor(alpha=0.0001, average=False, epsilon=0.1, eta0=0.01,\n",
      "       fit_intercept=True, l1_ratio=0.15, learning_rate='invscaling',\n",
      "       loss='squared_loss', max_iter=None, n_iter=None, penalty='l2',\n",
      "       power_t=0.25, random_state=None, shuffle=True, tol=None, verbose=0,\n",
      "       warm_start=False)\n",
      "Train MSE 0.9889994535063158\n",
      "Test MSE 0.9997178989763371\n",
      "BayesianRidge(alpha_1=1e-06, alpha_2=1e-06, compute_score=False, copy_X=True,\n",
      "       fit_intercept=True, lambda_1=1e-06, lambda_2=1e-06, n_iter=300,\n",
      "       normalize=False, tol=0.001, verbose=False)\n",
      "Train MSE 0.9891786200891407\n",
      "Test MSE 0.9797243368830316\n",
      "LassoLars(alpha=1.0, copy_X=True, eps=2.220446049250313e-16,\n",
      "     fit_intercept=True, fit_path=True, max_iter=500, normalize=True,\n",
      "     positive=False, precompute='auto', verbose=False)\n",
      "Train MSE 1.0134651787908096\n",
      "Test MSE 0.9605081201342284\n",
      "ARDRegression(alpha_1=1e-06, alpha_2=1e-06, compute_score=False, copy_X=True,\n",
      "       fit_intercept=True, lambda_1=1e-06, lambda_2=1e-06, n_iter=300,\n",
      "       normalize=False, threshold_lambda=10000.0, tol=0.001, verbose=False)\n",
      "Train MSE 0.9900187028677792\n",
      "Test MSE 1.048337307073371\n",
      "PassiveAggressiveRegressor(C=1.0, average=False, epsilon=0.1,\n",
      "              fit_intercept=True, loss='epsilon_insensitive',\n",
      "              max_iter=None, n_iter=None, random_state=None, shuffle=True,\n",
      "              tol=None, verbose=0, warm_start=False)\n",
      "Train MSE 2.1781868656125005\n",
      "Test MSE 2.3531713011318\n",
      "TheilSenRegressor(copy_X=True, fit_intercept=True, max_iter=300,\n",
      "         max_subpopulation=10000, n_jobs=1, n_subsamples=None,\n",
      "         random_state=None, tol=0.001, verbose=False)\n",
      "Train MSE 1.0167137727972273\n",
      "Test MSE 1.015769365146715\n",
      "LinearRegression(copy_X=True, fit_intercept=True, n_jobs=1, normalize=False)\n",
      "Train MSE 0.9867980755565534\n",
      "Test MSE 1.1613553057349821\n"
     ]
    }
   ],
   "source": [
    "classifiers = [\n",
    "    svm.SVR(kernel='rbf', C=1.0),\n",
    "    linear_model.SGDRegressor(),\n",
    "    linear_model.BayesianRidge(),\n",
    "    linear_model.LassoLars(),\n",
    "    linear_model.ARDRegression(),\n",
    "    linear_model.PassiveAggressiveRegressor(),\n",
    "    linear_model.TheilSenRegressor(),\n",
    "    linear_model.LinearRegression()]\n",
    "\n",
    "for item in classifiers:\n",
    "    print(item)\n",
    "    clf = item\n",
    "    clf.fit(X_train, Y_train)\n",
    "    \n",
    "    Y_train_pred = clf.predict(X_train)\n",
    "    Y_test_pred = clf.predict(X_test)\n",
    "\n",
    "    train_mse = sklearn.metrics.mean_squared_error(Y_train, Y_train_pred)\n",
    "    test_mse = sklearn.metrics.mean_squared_error(Y_test, Y_test_pred)\n",
    "    print(\"Train MSE {}\".format(train_mse))\n",
    "    print(\"Test MSE {}\".format(test_mse))\n",
    "    \n",
    "    if hasattr(clf, 'kernel') and clf.kernel == 'linear':\n",
    "        coefficients = pd.DataFrame({\"Coefficients\":np.transpose(clf.coef_)})\n",
    "        print(coefficients)\n",
    "   "
   ]
  },
  {
   "cell_type": "code",
   "execution_count": 26,
   "metadata": {
    "collapsed": false
   },
   "outputs": [],
   "source": [
    "from sklearn.tree import DecisionTreeRegressor\n",
    "from sklearn.ensemble import AdaBoostRegressor\n",
    "clf = AdaBoostRegressor() #base_estimator='DecisionTreeRegressor',n_estimators=300, learning_rate=1.0, loss='linear', random_state=None\n",
    "clf.fit(X_train, Y_train)\n",
    "accuracy = clf.score(X_test, Y_test)\n",
    " "
   ]
  },
  {
   "cell_type": "code",
   "execution_count": null,
   "metadata": {
    "collapsed": true
   },
   "outputs": [],
   "source": []
  }
 ],
 "metadata": {
  "kernelspec": {
   "display_name": "Python 3",
   "language": "python",
   "name": "python3"
  },
  "language_info": {
   "codemirror_mode": {
    "name": "ipython",
    "version": 3
   },
   "file_extension": ".py",
   "mimetype": "text/x-python",
   "name": "python",
   "nbconvert_exporter": "python",
   "pygments_lexer": "ipython3",
   "version": "3.6.0"
  }
 },
 "nbformat": 4,
 "nbformat_minor": 2
}
